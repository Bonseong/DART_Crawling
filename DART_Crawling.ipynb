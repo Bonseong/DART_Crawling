{
 "cells": [
  {
   "cell_type": "code",
   "execution_count": 5,
   "metadata": {},
   "outputs": [],
   "source": [
    "import requests\n",
    "import json\n",
    "import pandas as pd\n",
    "import numpy as np\n",
    "from pandas.io.json import json_normalize\n",
    "from urllib.request import urlopen\n",
    "import os\n",
    "import webbrowser\n",
    "import openpyxl\n",
    "from openpyxl.utils.dataframe import dataframe_to_rows\n",
    "from openpyxl import Workbook\n",
    "from bs4 import BeautifulSoup\n",
    "from xbrl import XBRLParser, GAAP, GAAPSerializer\n",
    "from html_table_parser import parser_functions as parser\n",
    "from xml.etree.ElementTree import parse\n",
    "import tarfile\n",
    "import time\n",
    "import zipfile\n",
    "from pathlib import Path\n",
    "path_to_download_folder = str(os.path.join(Path.home(), \"Downloads\"))"
   ]
  },
  {
   "cell_type": "code",
   "execution_count": 6,
   "metadata": {},
   "outputs": [],
   "source": [
    "# API 호출\n",
    "apikey='************************************'\n",
    "crpcode = \"00184667\"\n",
    "type(apikey), len(apikey)\n",
    "company_list = ['A기업','B기업', 'C기업']\n",
    "code_list=['00184667','00117337', '00293886']"
   ]
  },
  {
   "cell_type": "code",
   "execution_count": 7,
   "metadata": {},
   "outputs": [],
   "source": [
    "def assignment(crpcode):\n",
    "    global df, table\n",
    "    url_company = \"https://opendart.fss.or.kr/api/list.json?crtfc_key={0}&corp_code={1}&bgn_de=20160101&end_de=20191231&pblntf_ty=A&pblntf_detail_ty=A002&page_no=1&page_count=10\"\n",
    "    url = url_company.format(apikey, crpcode)\n",
    "    \n",
    "    \n",
    "    response = requests.get(url)\n",
    "    output = json.loads(response.content)\n",
    "    output_df=json_normalize(output['list'])\n",
    "    company_code = output_df[output_df['report_nm']=='사업보고서 (2018.12)']['rcept_no'].iloc[0]\n",
    "    \n",
    "    url_parser = \"https://opendart.fss.or.kr/api/document.xml?crtfc_key={0}&rcept_no=\"+company_code\n",
    "    url = url_parser.format(apikey)\n",
    "    \n",
    "    webbrowser.open(url)\n",
    "    time.sleep(3) #다운로드 시간 고려\n",
    "    os.rename(path_to_download_folder+'/document.xml', path_to_download_folder+'/'+company_code+'.zip')\n",
    "    \n",
    "    os.chdir(path_to_download_folder)\n",
    "    ex_zip=zipfile.ZipFile(company_code+'.zip')\n",
    "    ex_zip.extractall()\n",
    "    ex_zip.close()\n",
    "    \n",
    "    soup = BeautifulSoup(open((path_to_download_folder+'/'+company_code+'.xml'), 'rb'), 'html.parser')\n",
    "    body=soup.find(\"body\")\n",
    "    table=body.find_all('table')\n",
    "    \n",
    "    for i in range(len(table)):\n",
    "        a=pd.DataFrame(parser.make2d(table[i]))\n",
    "    \n",
    "        if a.iloc[0,0]=='재무상태표':\n",
    "            df=pd.DataFrame(parser.make2d(table[i+1]))\n",
    "            break\n",
    "\n",
    "\n",
    "    df.columns = df.iloc[0]\n",
    "    df=df.set_index(df.iloc[:,0])\n",
    "    df=df.drop(df.index[0])\n",
    "    df=df.drop(df.columns[0], axis=1)\n"
   ]
  },
  {
   "cell_type": "code",
   "execution_count": 4,
   "metadata": {
    "scrolled": false
   },
   "outputs": [
    {
     "name": "stderr",
     "output_type": "stream",
     "text": [
      "<ipython-input-3-9587229b71e2>:9: FutureWarning: pandas.io.json.json_normalize is deprecated, use pandas.json_normalize instead\n",
      "  output_df=json_normalize(output['list'])\n"
     ]
    },
    {
     "data": {
      "text/plain": [
       "<bound method Workbook.save of <openpyxl.workbook.workbook.Workbook object at 0x00000224C7200220>>"
      ]
     },
     "execution_count": 4,
     "metadata": {},
     "output_type": "execute_result"
    }
   ],
   "source": [
    "try:\n",
    "    os.remove('dart_output.xlsx')\n",
    "except FileNotFoundError:\n",
    "    pass\n",
    "\n",
    "wb = Workbook()\n",
    "wb.active\n",
    "wb.save('dart_output.xlsx')\n",
    "\n",
    "writer = pd.ExcelWriter('dart_output.xlsx',engine=\"openpyxl\", mode=\"w\")\n",
    "\n",
    "for i in range(len(code_list)):\n",
    "    try:\n",
    "        assignment(code_list[i])\n",
    "        df.to_excel(writer, sheet_name=company_list[i])\n",
    "    except AttributeError:\n",
    "        print(company_list[i] + '의 데이터가 존재하지 않습니다.')\n",
    "        \n",
    "writer.save()        \n",
    "\n",
    "wb=openpyxl.load_workbook('dart_output.xlsx')\n",
    "wb.save\n"
   ]
  }
 ],
 "metadata": {
  "kernelspec": {
   "display_name": "Python 3",
   "language": "python",
   "name": "python3"
  },
  "language_info": {
   "codemirror_mode": {
    "name": "ipython",
    "version": 3
   },
   "file_extension": ".py",
   "mimetype": "text/x-python",
   "name": "python",
   "nbconvert_exporter": "python",
   "pygments_lexer": "ipython3",
   "version": "3.8.1"
  }
 },
 "nbformat": 4,
 "nbformat_minor": 4
}
